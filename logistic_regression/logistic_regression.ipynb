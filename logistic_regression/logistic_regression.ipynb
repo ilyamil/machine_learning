{
 "cells": [
  {
   "cell_type": "code",
   "execution_count": 1,
   "metadata": {},
   "outputs": [],
   "source": [
    "import pandas as pd\n",
    "import numpy as np\n",
    "import matplotlib.pyplot as plt\n",
    "from scipy import optimize"
   ]
  },
  {
   "cell_type": "code",
   "execution_count": 2,
   "metadata": {},
   "outputs": [],
   "source": [
    "data1 = pd.read_csv('data/data1.csv', header=None)"
   ]
  },
  {
   "cell_type": "code",
   "execution_count": 3,
   "metadata": {},
   "outputs": [
    {
     "data": {
      "text/html": [
       "<div>\n",
       "<style scoped>\n",
       "    .dataframe tbody tr th:only-of-type {\n",
       "        vertical-align: middle;\n",
       "    }\n",
       "\n",
       "    .dataframe tbody tr th {\n",
       "        vertical-align: top;\n",
       "    }\n",
       "\n",
       "    .dataframe thead th {\n",
       "        text-align: right;\n",
       "    }\n",
       "</style>\n",
       "<table border=\"1\" class=\"dataframe\">\n",
       "  <thead>\n",
       "    <tr style=\"text-align: right;\">\n",
       "      <th></th>\n",
       "      <th>0</th>\n",
       "      <th>1</th>\n",
       "      <th>2</th>\n",
       "    </tr>\n",
       "  </thead>\n",
       "  <tbody>\n",
       "    <tr>\n",
       "      <th>0</th>\n",
       "      <td>34.623660</td>\n",
       "      <td>78.024693</td>\n",
       "      <td>0</td>\n",
       "    </tr>\n",
       "    <tr>\n",
       "      <th>1</th>\n",
       "      <td>30.286711</td>\n",
       "      <td>43.894998</td>\n",
       "      <td>0</td>\n",
       "    </tr>\n",
       "    <tr>\n",
       "      <th>2</th>\n",
       "      <td>35.847409</td>\n",
       "      <td>72.902198</td>\n",
       "      <td>0</td>\n",
       "    </tr>\n",
       "    <tr>\n",
       "      <th>3</th>\n",
       "      <td>60.182599</td>\n",
       "      <td>86.308552</td>\n",
       "      <td>1</td>\n",
       "    </tr>\n",
       "    <tr>\n",
       "      <th>4</th>\n",
       "      <td>79.032736</td>\n",
       "      <td>75.344376</td>\n",
       "      <td>1</td>\n",
       "    </tr>\n",
       "  </tbody>\n",
       "</table>\n",
       "</div>"
      ],
      "text/plain": [
       "           0          1  2\n",
       "0  34.623660  78.024693  0\n",
       "1  30.286711  43.894998  0\n",
       "2  35.847409  72.902198  0\n",
       "3  60.182599  86.308552  1\n",
       "4  79.032736  75.344376  1"
      ]
     },
     "execution_count": 3,
     "metadata": {},
     "output_type": "execute_result"
    }
   ],
   "source": [
    "data1.head()"
   ]
  },
  {
   "cell_type": "markdown",
   "metadata": {},
   "source": [
    "This dataset contains information about college admissions of students based on their performance on 2 exams.  "
   ]
  },
  {
   "cell_type": "code",
   "execution_count": 4,
   "metadata": {},
   "outputs": [
    {
     "data": {
      "image/png": "[encoded data removed]",
      "text/plain": [
       "<Figure size 432x360 with 1 Axes>"
      ]
     },
     "metadata": {
      "needs_background": "light"
     },
     "output_type": "display_data"
    }
   ],
   "source": [
    "pos_subset = data1[data1[2] == 1]\n",
    "neg_subset = data1[data1[2] == 0]\n",
    "\n",
    "plt.figure(figsize=(6,5))\n",
    "plt.plot(pos_subset[0], pos_subset[1], 'b.', \n",
    "         label = 'Admitted')\n",
    "plt.plot(neg_subset[0], neg_subset[1], 'rx',\n",
    "         label = 'Not Admitted')\n",
    "plt.xlabel('$x_1$')\n",
    "plt.ylabel('$x_2$')\n",
    "plt.legend(loc = 'best')\n",
    "plt.show()"
   ]
  },
  {
   "cell_type": "markdown",
   "metadata": {},
   "source": [
    "This task is quite simple and doesn't require powerful techniques. We will use logistic regression algorithm trained on 2 features."
   ]
  },
  {
   "cell_type": "code",
   "execution_count": 5,
   "metadata": {},
   "outputs": [],
   "source": [
    "X = data1.iloc[:,:2]\n",
    "y = data1[2]\n",
    "\n",
    "mu = np.array(X.mean())\n",
    "sigma = np.array(X.std())"
   ]
  },
  {
   "cell_type": "markdown",
   "metadata": {},
   "source": [
    "Normalization is not required for this dataset, because features are in the same range 30 < x < 100.\n",
    "But it could be useful later."
   ]
  },
  {
   "cell_type": "code",
   "execution_count": 6,
   "metadata": {},
   "outputs": [],
   "source": [
    "def Normalize(x, mu, sigma):\n",
    "    x = np.array(x, dtype = 'float32')\n",
    "    x = (x - mu) / sigma\n",
    "    return x"
   ]
  },
  {
   "cell_type": "code",
   "execution_count": 7,
   "metadata": {},
   "outputs": [],
   "source": [
    "class LogisticRegression():\n",
    "    \"\"\"\n",
    "    \n",
    "    Create a logistic regression model to perform binary\n",
    "    or multilabel classification tasks. \n",
    "    \n",
    "    \"\"\"\n",
    "    \n",
    "    def __init__(self, data_X, data_y):\n",
    "        self.X = np.insert(data_X if type(data_X) == np.ndarray \\\n",
    "                           else np.array(data_X), 0, \n",
    "                           np.ones(data_X.shape[0]), axis = 1)\n",
    "        self.y = data_y if type(data_y) == np.ndarray \\\n",
    "                    else np.array(data_y)\n",
    "        self.m, self.n = (self.X).shape\n",
    "        self.theta_initial = np.array([0] * self.n)\n",
    "        self.theta_trained = np.array([0] * self.n)\n",
    "        self.labels = np.unique(self.y)\n",
    "        \n",
    "    def Hypothesis(self, theta, X):\n",
    "        return 1/(1 + np.exp(-np.dot(X, theta.T)))\n",
    "    \n",
    "    def CostFunc(self, theta = None, X = None, y = None, lmbda = 0):\n",
    "        if isinstance(theta, np.ndarray) == False:\n",
    "            theta = self.theta_initial\n",
    "        if isinstance(X, np.ndarray) == False:\n",
    "            X = self.X\n",
    "        if isinstance(y, np.ndarray) == False:\n",
    "            y = self.y \n",
    "        \n",
    "        reg_term = 0\n",
    "        if lmbda != 0:\n",
    "            reg_term = lmbda/(2 * self.m) * np.sum(theta**2)\n",
    "            \n",
    "        unit_costs = -y * np.log(self.Hypothesis(theta, X))\\\n",
    "            - (1 - y) * np.log(1 - self.Hypothesis(theta, X))   \n",
    "        return 1/self.m * (np.sum(unit_costs) + reg_term)\n",
    "    \n",
    "    def Grad(self, theta = None, X = None, y = None, lmbda = 0):\n",
    "        if isinstance(theta, np.ndarray) == False:\n",
    "            theta = self.theta_initial\n",
    "        if isinstance(X, np.ndarray) == False:\n",
    "            X = self.X\n",
    "        if isinstance(y, np.ndarray) == False:\n",
    "            y = self.y \n",
    "   \n",
    "        reg_term = 0\n",
    "        if lmbda != 0:\n",
    "            reg_term = lmbda * theta\n",
    "            reg_term[0]-= 0\n",
    "        return 1/self.m * (np.dot((self.Hypothesis(theta, X)\\\n",
    "                                         - y), X) + reg_term)\n",
    "    \n",
    "    def Fit(self, lmbda = 0, optimizer = 'TNC'):\n",
    "        \"\"\"\n",
    "        Train the model. Default version utilize TNC algorithm for \n",
    "        minimization. Initial guess is assumed to be an array of zeros.\n",
    "        To enable regularization just pass a value of lambda.\n",
    "        Multilabel classification strategy: 1 vs all\n",
    "        \"\"\"\n",
    "        labels = np.unique(self.y)\n",
    "        multilabel = len(labels) > 2                                       # Is multilabel classification?\n",
    "        \n",
    "        if multilabel:\n",
    "            theta = np.zeros((len(labels), self.X.shape[1]))\n",
    "            for i in range(len(labels)):\n",
    "                y_local = (self.y == labels[i]) * 1\n",
    "\n",
    "                args_ = (self.X, y_local, lmbda)\n",
    "                res = optimize.minimize(fun=self.CostFunc, args = args_,\n",
    "                                                  x0=self.theta_initial,\n",
    "                                                  method=optimizer,\n",
    "                                                  jac=self.Grad)\n",
    "                theta[i] = res.x\n",
    "            self.theta_trained = theta\n",
    "            print(\"The model was trained\")\n",
    "        else:\n",
    "            args_ = (self.X, y, lmbda)\n",
    "            res = optimize.minimize(fun=self.CostFunc, args = args_,\n",
    "                                              x0=self.theta_initial,\n",
    "                                              method=optimizer,\n",
    "                                              jac=self.Grad)\n",
    "            if res.success == True:\n",
    "                self.theta_trained = np.array(res.x)\n",
    "                print('The model was trained successfuly!\\n' +\n",
    "                     'Number of iterations: ' + str(res.nit))\n",
    "            else:\n",
    "                self.theta_trained = np.array(res.x)\n",
    "                print('Optimization terminated with messge:\\n' + res.message +\n",
    "                     \",\\nWeights are not optimal\")\n",
    "    \n",
    "    def Weights(self):\n",
    "        return self.theta_trained\n",
    "    \n",
    "    def Predict(self, x):\n",
    "        \"\"\"\n",
    "        To get an integer prediction this method uses round function.\n",
    "        So for binary classification the boundary is >= 0.5 for label\n",
    "        \"1\" and \"0\" otherwise. \n",
    "        \"\"\"            \n",
    "        if type(x) != np.array:\n",
    "            x = np.array(x, dtype = 'float32')\n",
    "        if x.ndim == 1:\n",
    "            x = np.insert(x, 0, 1, axis = 0)\n",
    "        else:\n",
    "            x = np.insert(x, 0, np.ones(x.shape[0]), axis = 1)\n",
    "        \n",
    "        if len(self.labels) > 2:\n",
    "            pred_mat = self.Hypothesis(self.theta_trained, x)\n",
    "            ids_of_max = np.argmax(pred_mat, axis = 1)\n",
    "            pred = np.array([self.labels[i] for i in ids_of_max]) \n",
    "            return pred\n",
    "        else:\n",
    "            return np.round(self.Hypothesis(self.theta_trained, x))\n",
    "    \n",
    "    def Accuracy(self, test_x, test_y):\n",
    "        if type(test_x) != np.ndarray:\n",
    "            test_x = np.array(test_x)\n",
    "\n",
    "        pred = self.Predict(test_x)\n",
    "        print(\"Accuracy: {0:.2f}\".format(np.mean(pred == test_y) * 100) + '%')    "
   ]
  },
  {
   "cell_type": "code",
   "execution_count": 8,
   "metadata": {},
   "outputs": [],
   "source": [
    "a = LogisticRegression(X, y)"
   ]
  },
  {
   "cell_type": "code",
   "execution_count": 9,
   "metadata": {},
   "outputs": [
    {
     "name": "stdout",
     "output_type": "stream",
     "text": [
      "The model was trained successfuly!\n",
      "Number of iterations: 17\n"
     ]
    }
   ],
   "source": [
    "a.Fit()"
   ]
  },
  {
   "cell_type": "markdown",
   "metadata": {},
   "source": [
    "In the picture above you can see that classes can be easily separated by straight line given by the equation y = kx + b. So let's try to visualize this decision boundary."
   ]
  },
  {
   "cell_type": "code",
   "execution_count": 10,
   "metadata": {},
   "outputs": [],
   "source": [
    "weights = a.Weights()\n",
    "x_db = np.array([np.min(X.iloc[:,0]) - 2, np.max(X.iloc[:,0]) + 2])\n",
    "y_db = -1/weights[2] * (weights[1] * x_db + weights[0])"
   ]
  },
  {
   "cell_type": "code",
   "execution_count": 11,
   "metadata": {},
   "outputs": [
    {
     "data": {
      "image/png": "[encoded data removed]",
      "text/plain": [
       "<Figure size 432x360 with 1 Axes>"
      ]
     },
     "metadata": {
      "needs_background": "light"
     },
     "output_type": "display_data"
    }
   ],
   "source": [
    "plt.figure(figsize=(6,5))\n",
    "plt.plot(x_db, y_db, color = 'green', linewidth = 3,\n",
    "        label = 'Decision boundary')\n",
    "plt.plot(pos_subset[0], pos_subset[1], 'b.', \n",
    "         label = 'Admitted')\n",
    "plt.plot(neg_subset[0], neg_subset[1], 'rx',\n",
    "         label = 'Not Admitted')\n",
    "plt.xlabel('$x_1$')\n",
    "plt.ylabel('$x_2$')\n",
    "plt.legend(loc = 'best')\n",
    "plt.xlim(x_db[0], x_db[1])\n",
    "plt.show()"
   ]
  },
  {
   "cell_type": "markdown",
   "metadata": {},
   "source": [
    "# Complex shape of decision boundary"
   ]
  },
  {
   "cell_type": "code",
   "execution_count": 12,
   "metadata": {},
   "outputs": [],
   "source": [
    "data2 = pd.read_csv('data/data2.csv', header=None)"
   ]
  },
  {
   "cell_type": "code",
   "execution_count": 13,
   "metadata": {},
   "outputs": [
    {
     "data": {
      "text/html": [
       "<div>\n",
       "<style scoped>\n",
       "    .dataframe tbody tr th:only-of-type {\n",
       "        vertical-align: middle;\n",
       "    }\n",
       "\n",
       "    .dataframe tbody tr th {\n",
       "        vertical-align: top;\n",
       "    }\n",
       "\n",
       "    .dataframe thead th {\n",
       "        text-align: right;\n",
       "    }\n",
       "</style>\n",
       "<table border=\"1\" class=\"dataframe\">\n",
       "  <thead>\n",
       "    <tr style=\"text-align: right;\">\n",
       "      <th></th>\n",
       "      <th>0</th>\n",
       "      <th>1</th>\n",
       "      <th>2</th>\n",
       "    </tr>\n",
       "  </thead>\n",
       "  <tbody>\n",
       "    <tr>\n",
       "      <th>0</th>\n",
       "      <td>0.051267</td>\n",
       "      <td>0.69956</td>\n",
       "      <td>1</td>\n",
       "    </tr>\n",
       "    <tr>\n",
       "      <th>1</th>\n",
       "      <td>-0.092742</td>\n",
       "      <td>0.68494</td>\n",
       "      <td>1</td>\n",
       "    </tr>\n",
       "    <tr>\n",
       "      <th>2</th>\n",
       "      <td>-0.213710</td>\n",
       "      <td>0.69225</td>\n",
       "      <td>1</td>\n",
       "    </tr>\n",
       "    <tr>\n",
       "      <th>3</th>\n",
       "      <td>-0.375000</td>\n",
       "      <td>0.50219</td>\n",
       "      <td>1</td>\n",
       "    </tr>\n",
       "    <tr>\n",
       "      <th>4</th>\n",
       "      <td>-0.513250</td>\n",
       "      <td>0.46564</td>\n",
       "      <td>1</td>\n",
       "    </tr>\n",
       "  </tbody>\n",
       "</table>\n",
       "</div>"
      ],
      "text/plain": [
       "          0        1  2\n",
       "0  0.051267  0.69956  1\n",
       "1 -0.092742  0.68494  1\n",
       "2 -0.213710  0.69225  1\n",
       "3 -0.375000  0.50219  1\n",
       "4 -0.513250  0.46564  1"
      ]
     },
     "execution_count": 13,
     "metadata": {},
     "output_type": "execute_result"
    }
   ],
   "source": [
    "data2.head()"
   ]
  },
  {
   "cell_type": "markdown",
   "metadata": {},
   "source": [
    "Imagine we are at the factory. This dataset represent information whether the product is defective or not based on results of two tests. If results lie in a certain range, then the product is accepted and goes on sale."
   ]
  },
  {
   "cell_type": "code",
   "execution_count": 14,
   "metadata": {},
   "outputs": [],
   "source": [
    "X = data2.iloc[:,:2]\n",
    "y = data2.iloc[:, 2]"
   ]
  },
  {
   "cell_type": "code",
   "execution_count": 15,
   "metadata": {},
   "outputs": [
    {
     "data": {
      "image/png": "[encoded data removed]",
      "text/plain": [
       "<Figure size 432x360 with 1 Axes>"
      ]
     },
     "metadata": {
      "needs_background": "light"
     },
     "output_type": "display_data"
    }
   ],
   "source": [
    "plt.figure(figsize=(6,5))\n",
    "plt.plot(X[y == 0][0],X[y == 0][1], 'rx',\n",
    "        label = 'Rejected')\n",
    "plt.plot(X[y == 1][0],X[y == 1][1], 'b.',\n",
    "        label = 'Accepted')\n",
    "plt.legend(loc = 'best')\n",
    "plt.xlabel('$x_1$')\n",
    "plt.ylabel('$x_2$')\n",
    "plt.show()"
   ]
  },
  {
   "cell_type": "markdown",
   "metadata": {},
   "source": [
    "Now the classes can't be separated by a straight line. Here should be a curve of higher order. For example, a circle $x^2$ + $y^2$ = $R^2$ could be not a bad approximation. But to better fit the shape it's necessary to generate new features."
   ]
  },
  {
   "cell_type": "code",
   "execution_count": 16,
   "metadata": {},
   "outputs": [],
   "source": [
    "def FeatureMap(X_1, X_2, N):\n",
    "    \"\"\" \n",
    "    \n",
    "    Return a new table with more features. Increase number of fe- \n",
    "    atures of X from 2 to (N + 3) * N/2 by mapping input features \n",
    "    to polynomial with order N.\n",
    "    \n",
    "    \"\"\"\n",
    "    if type(X_1) != np.ndarray:\n",
    "        X_1 = np.array(X_1, ndmin=2)\n",
    "        X_2 = np.array(X_2, ndmin=2)\n",
    "    if X_1.ndim != 2 or X_2.ndim != 2:\n",
    "        np.reshape(X_1, (X_1.shape[0],1))\n",
    "        np.reshape(X_2, (X_2.shape[0],1))\n",
    "        \n",
    "    X = np.vstack((X_1, X_2)).T\n",
    "    for i in range(2, N + 1):\n",
    "        for j in range(i + 1):\n",
    "            X = np.hstack((X,(X_1 ** (i - j) * (X_2 ** (j))).T))\n",
    "    return X"
   ]
  },
  {
   "cell_type": "code",
   "execution_count": 17,
   "metadata": {},
   "outputs": [],
   "source": [
    "def ComputeZ(u, v, weights, N):\n",
    "    z = np.zeros((len(u), len(v)))\n",
    "    for i in range(len(u)):\n",
    "        for j in range(len(v)):\n",
    "            z[i,j] = np.dot(np.insert(FeatureMap(u[i], v[j], N), 0, 1),\n",
    "                            model.Weights())\n",
    "    return z"
   ]
  },
  {
   "cell_type": "code",
   "execution_count": 18,
   "metadata": {},
   "outputs": [
    {
     "name": "stdout",
     "output_type": "stream",
     "text": [
      "Optimization terminated with messge:\n",
      "Linear search failed,\n",
      "Weights are not optimal\n"
     ]
    }
   ],
   "source": [
    "order = 6\n",
    "lmbda = 1\n",
    "\n",
    "X_train = FeatureMap(X[0],X[1], order)\n",
    "model = LogisticRegression(X_train, y)\n",
    "model.Fit(lmbda)"
   ]
  },
  {
   "cell_type": "code",
   "execution_count": 19,
   "metadata": {},
   "outputs": [
    {
     "data": {
      "text/plain": [
       "array([ 1.14796988,  0.60123605,  1.17054684, -1.88314302, -0.91466193,\n",
       "       -1.26549986,  0.1267369 , -0.36683793, -0.34725934, -0.18060678,\n",
       "       -1.42423097, -0.05779677, -0.60630952, -0.26718966, -1.16593269,\n",
       "       -0.23500923, -0.20754922, -0.05006263, -0.27921474, -0.28299029,\n",
       "       -0.47646176, -1.02992508,  0.0241116 , -0.29378828,  0.01238152,\n",
       "       -0.32816826, -0.13343803, -0.93372164])"
      ]
     },
     "execution_count": 19,
     "metadata": {},
     "output_type": "execute_result"
    }
   ],
   "source": [
    "model.Weights()"
   ]
  },
  {
   "cell_type": "code",
   "execution_count": 20,
   "metadata": {},
   "outputs": [
    {
     "name": "stdout",
     "output_type": "stream",
     "text": [
      "Accuracy: 83.05%\n"
     ]
    }
   ],
   "source": [
    "model.Accuracy(X_train, y)"
   ]
  },
  {
   "cell_type": "code",
   "execution_count": 21,
   "metadata": {},
   "outputs": [
    {
     "data": {
      "image/png": "[encoded data removed]",
      "text/plain": [
       "<Figure size 432x360 with 1 Axes>"
      ]
     },
     "metadata": {
      "needs_background": "light"
     },
     "output_type": "display_data"
    }
   ],
   "source": [
    "u = np.linspace(-1, 1.5, 50)\n",
    "v = np.linspace(-1, 1.5, 50)\n",
    "z = ComputeZ(u, v, model.Weights(), order)\n",
    "        \n",
    "X = data2.iloc[:,:-1]\n",
    "\n",
    "plt.figure(figsize=(6,5))\n",
    "plt.plot(X[y == 0][0], X[y == 0][1], 'rx', label = 'Rejected')\n",
    "plt.plot(X[y == 1][0], X[y == 1][1], 'b.', label = 'Accepted')\n",
    "plt.contour(u,v,z,0)\n",
    "plt.xlabel('$x_1$')\n",
    "plt.ylabel('$x_2$')\n",
    "plt.legend(loc = 'best')\n",
    "plt.show()"
   ]
  },
  {
   "cell_type": "markdown",
   "metadata": {},
   "source": [
    "Here we can see that without regularization weights of the model are quite large with values in range $10^1$ - $10^2$ (for Feature Map with polynomial order of 6). Using parameter $\\lambda$ = 1 gives us much smaller values of weights lying in the range $10^{-2}$ - $10^0$. In this case shape of the curve is much smoother which means less overfitting, due to the fact that model don't go through each data point very agressively. This technique helps to generalize training dataset. Of course, increasing regularization parameter leads to decreasing of accuracy, but it's not always a bad sign (only if we use not very large $\\lambda$. Otherwise generalization ability of the model and its accuracy both decrease) "
   ]
  },
  {
   "cell_type": "markdown",
   "metadata": {},
   "source": [
    "# Multilabel classification"
   ]
  },
  {
   "cell_type": "code",
   "execution_count": 22,
   "metadata": {},
   "outputs": [],
   "source": [
    "data3 = pd.read_csv('data/iris.csv')"
   ]
  },
  {
   "cell_type": "code",
   "execution_count": 23,
   "metadata": {},
   "outputs": [
    {
     "data": {
      "text/html": [
       "<div>\n",
       "<style scoped>\n",
       "    .dataframe tbody tr th:only-of-type {\n",
       "        vertical-align: middle;\n",
       "    }\n",
       "\n",
       "    .dataframe tbody tr th {\n",
       "        vertical-align: top;\n",
       "    }\n",
       "\n",
       "    .dataframe thead th {\n",
       "        text-align: right;\n",
       "    }\n",
       "</style>\n",
       "<table border=\"1\" class=\"dataframe\">\n",
       "  <thead>\n",
       "    <tr style=\"text-align: right;\">\n",
       "      <th></th>\n",
       "      <th>sepal.length</th>\n",
       "      <th>sepal.width</th>\n",
       "      <th>petal.length</th>\n",
       "      <th>petal.width</th>\n",
       "      <th>variety</th>\n",
       "    </tr>\n",
       "  </thead>\n",
       "  <tbody>\n",
       "    <tr>\n",
       "      <th>0</th>\n",
       "      <td>5.1</td>\n",
       "      <td>3.5</td>\n",
       "      <td>1.4</td>\n",
       "      <td>0.2</td>\n",
       "      <td>Setosa</td>\n",
       "    </tr>\n",
       "    <tr>\n",
       "      <th>1</th>\n",
       "      <td>4.9</td>\n",
       "      <td>3.0</td>\n",
       "      <td>1.4</td>\n",
       "      <td>0.2</td>\n",
       "      <td>Setosa</td>\n",
       "    </tr>\n",
       "    <tr>\n",
       "      <th>2</th>\n",
       "      <td>4.7</td>\n",
       "      <td>3.2</td>\n",
       "      <td>1.3</td>\n",
       "      <td>0.2</td>\n",
       "      <td>Setosa</td>\n",
       "    </tr>\n",
       "    <tr>\n",
       "      <th>3</th>\n",
       "      <td>4.6</td>\n",
       "      <td>3.1</td>\n",
       "      <td>1.5</td>\n",
       "      <td>0.2</td>\n",
       "      <td>Setosa</td>\n",
       "    </tr>\n",
       "    <tr>\n",
       "      <th>4</th>\n",
       "      <td>5.0</td>\n",
       "      <td>3.6</td>\n",
       "      <td>1.4</td>\n",
       "      <td>0.2</td>\n",
       "      <td>Setosa</td>\n",
       "    </tr>\n",
       "  </tbody>\n",
       "</table>\n",
       "</div>"
      ],
      "text/plain": [
       "   sepal.length  sepal.width  petal.length  petal.width variety\n",
       "0           5.1          3.5           1.4          0.2  Setosa\n",
       "1           4.9          3.0           1.4          0.2  Setosa\n",
       "2           4.7          3.2           1.3          0.2  Setosa\n",
       "3           4.6          3.1           1.5          0.2  Setosa\n",
       "4           5.0          3.6           1.4          0.2  Setosa"
      ]
     },
     "execution_count": 23,
     "metadata": {},
     "output_type": "execute_result"
    }
   ],
   "source": [
    "data3.head()"
   ]
  },
  {
   "cell_type": "markdown",
   "metadata": {},
   "source": [
    "That is one of the most popular tiny dataset for multilabel classification. Iris dataset collected to quantify the morphologic variation of Iris flowers of three related species. It has 4 features so we can't visualize it on a single graph as we did earlier."
   ]
  },
  {
   "cell_type": "code",
   "execution_count": 24,
   "metadata": {},
   "outputs": [],
   "source": [
    "X = data3.iloc[:,0:4]\n",
    "y = data3.iloc[:,-1]\n",
    "labels = y.unique()"
   ]
  },
  {
   "cell_type": "code",
   "execution_count": 25,
   "metadata": {},
   "outputs": [
    {
     "data": {
      "text/html": [
       "<div>\n",
       "<style scoped>\n",
       "    .dataframe tbody tr th:only-of-type {\n",
       "        vertical-align: middle;\n",
       "    }\n",
       "\n",
       "    .dataframe tbody tr th {\n",
       "        vertical-align: top;\n",
       "    }\n",
       "\n",
       "    .dataframe thead th {\n",
       "        text-align: right;\n",
       "    }\n",
       "</style>\n",
       "<table border=\"1\" class=\"dataframe\">\n",
       "  <thead>\n",
       "    <tr style=\"text-align: right;\">\n",
       "      <th></th>\n",
       "      <th>sepal.length</th>\n",
       "      <th>sepal.width</th>\n",
       "      <th>petal.length</th>\n",
       "      <th>petal.width</th>\n",
       "    </tr>\n",
       "  </thead>\n",
       "  <tbody>\n",
       "    <tr>\n",
       "      <th>50</th>\n",
       "      <td>7.0</td>\n",
       "      <td>3.2</td>\n",
       "      <td>4.7</td>\n",
       "      <td>1.4</td>\n",
       "    </tr>\n",
       "    <tr>\n",
       "      <th>51</th>\n",
       "      <td>6.4</td>\n",
       "      <td>3.2</td>\n",
       "      <td>4.5</td>\n",
       "      <td>1.5</td>\n",
       "    </tr>\n",
       "    <tr>\n",
       "      <th>52</th>\n",
       "      <td>6.9</td>\n",
       "      <td>3.1</td>\n",
       "      <td>4.9</td>\n",
       "      <td>1.5</td>\n",
       "    </tr>\n",
       "    <tr>\n",
       "      <th>53</th>\n",
       "      <td>5.5</td>\n",
       "      <td>2.3</td>\n",
       "      <td>4.0</td>\n",
       "      <td>1.3</td>\n",
       "    </tr>\n",
       "    <tr>\n",
       "      <th>54</th>\n",
       "      <td>6.5</td>\n",
       "      <td>2.8</td>\n",
       "      <td>4.6</td>\n",
       "      <td>1.5</td>\n",
       "    </tr>\n",
       "  </tbody>\n",
       "</table>\n",
       "</div>"
      ],
      "text/plain": [
       "    sepal.length  sepal.width  petal.length  petal.width\n",
       "50           7.0          3.2           4.7          1.4\n",
       "51           6.4          3.2           4.5          1.5\n",
       "52           6.9          3.1           4.9          1.5\n",
       "53           5.5          2.3           4.0          1.3\n",
       "54           6.5          2.8           4.6          1.5"
      ]
     },
     "execution_count": 25,
     "metadata": {},
     "output_type": "execute_result"
    }
   ],
   "source": [
    "X[y == labels[1]].head()"
   ]
  },
  {
   "cell_type": "markdown",
   "metadata": {},
   "source": [
    "To do multilabel classification I updated class object LogisticRegression and added the following functions. They were implemented a little bit different to match the structure of the class, but the logic is the same "
   ]
  },
  {
   "cell_type": "code",
   "execution_count": 26,
   "metadata": {},
   "outputs": [],
   "source": [
    "# def FitMultilabel(X, y):\n",
    "#     labels = y.unique()\n",
    "#     theta = np.zeros(len(labels), X.shape[1])\n",
    "#     for i in range(len(labels)):\n",
    "#         y_local = (y == labels[i]) * 1\n",
    "#         optimize(X, y_local)                    <- Now it's binary classification task\n",
    "#         theta[i] = weights\n",
    "\n",
    "# def Predict(X_test):\n",
    "#     pred_mat = sigmoid(np.dot(X_test, theta.T)) <- matrix of probabilities where p[i,j] represent a probability that\n",
    "#                                                    i'th example belongs to class j \n",
    "#     idx_of_max = np.argmax(b, axis = 1)         <- array of classes of X_test\n",
    "#     pred = [labels[i] for i in u]               <- decode classes in form of integers to its original type (for ex. str)"
   ]
  },
  {
   "cell_type": "code",
   "execution_count": 27,
   "metadata": {},
   "outputs": [],
   "source": [
    "model = LogisticRegression(X, y)"
   ]
  },
  {
   "cell_type": "code",
   "execution_count": 28,
   "metadata": {},
   "outputs": [
    {
     "name": "stdout",
     "output_type": "stream",
     "text": [
      "The model was trained\n"
     ]
    }
   ],
   "source": [
    "model.Fit()"
   ]
  },
  {
   "cell_type": "code",
   "execution_count": 29,
   "metadata": {},
   "outputs": [
    {
     "name": "stdout",
     "output_type": "stream",
     "text": [
      "Accuracy: 98.00%\n"
     ]
    }
   ],
   "source": [
    "model.Accuracy(X,y)"
   ]
  },
  {
   "cell_type": "markdown",
   "metadata": {},
   "source": [
    "Of course it's not very practical to measure accuracy on the same dataset on which the model was trained."
   ]
  },
  {
   "cell_type": "code",
   "execution_count": null,
   "metadata": {},
   "outputs": [],
   "source": []
  }
 ],
 "metadata": {
  "kernelspec": {
   "display_name": "Python 3",
   "language": "python",
   "name": "python3"
  },
  "language_info": {
   "codemirror_mode": {
    "name": "ipython",
    "version": 3
   },
   "file_extension": ".py",
   "mimetype": "text/x-python",
   "name": "python",
   "nbconvert_exporter": "python",
   "pygments_lexer": "ipython3",
   "version": "3.7.1"
  }
 },
 "nbformat": 4,
 "nbformat_minor": 2
}
