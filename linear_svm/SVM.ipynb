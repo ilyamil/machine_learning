{
 "cells": [
  {
   "cell_type": "code",
   "execution_count": 1,
   "metadata": {},
   "outputs": [],
   "source": [
    "import numpy as np\n",
    "import matplotlib.pyplot as plt\n",
    "import cvxopt\n",
    "from scipy import io"
   ]
  },
  {
   "cell_type": "code",
   "execution_count": 2,
   "metadata": {},
   "outputs": [],
   "source": [
    "class SVM:\n",
    "    def __init__(self):\n",
    "        pass\n",
    "    \n",
    "    def Train(self, X, y, C):\n",
    "        y = y.astype('double')\n",
    "        y[y == 0.] = -1\n",
    "        m, n = X.shape\n",
    "        \n",
    "        K = np.matmul(X,X.T) \n",
    "        I = np.eye(m)\n",
    "        h1 = np.ones((m,1))*C\n",
    "        h2 = np.zeros((m,1))\n",
    "        \n",
    "        P = cvxopt.matrix(np.outer(y,y)*K)\n",
    "        q = cvxopt.matrix(np.ones(m)*(-1))\n",
    "        G = cvxopt.matrix(np.vstack((I,-I)))\n",
    "        h = cvxopt.matrix(np.vstack((h1,h2)))\n",
    "        A = cvxopt.matrix(y.T)\n",
    "        b = cvxopt.matrix(0.0)\n",
    "        \n",
    "        solution = cvxopt.solvers.qp(P,q,G,h,A,b)\n",
    "        \n",
    "        alphas = np.array(solution['x'])\n",
    "        threshold = 1e-3\n",
    "        sv_ids = np.where(alphas > threshold)[0]\n",
    "\n",
    "        self.alphas = alphas[sv_ids]\n",
    "        self.sv = X[sv_ids]\n",
    "        self.sv_y = y[sv_ids]\n",
    "\n",
    "        K_sv = np.matmul(self.sv, self.sv.T)\n",
    "        self.b = np.sum(self.sv_y) -\\\n",
    "                np.sum(np.matmul(K_sv, self.alphas*self.sv_y))\n",
    "        self.b /= len(self.alphas)\n",
    "        self.w = np.sum(self.alphas*self.sv_y*self.sv, axis=0)\n",
    "        \n",
    "    def Predict(self, X):\n",
    "        return np.sign(np.matmul(self.w, X.T) + self.b)"
   ]
  },
  {
   "cell_type": "code",
   "execution_count": 3,
   "metadata": {},
   "outputs": [],
   "source": [
    "data1 = io.loadmat('data/data1.mat')\n",
    "X = data1['X']\n",
    "y = data1['y'].astype(int)"
   ]
  },
  {
   "cell_type": "code",
   "execution_count": 5,
   "metadata": {},
   "outputs": [
    {
     "name": "stdout",
     "output_type": "stream",
     "text": [
      "     pcost       dcost       gap    pres   dres\n",
      " 0: -1.1833e+01 -9.1932e+01  4e+02  2e+00  1e-14\n",
      " 1: -6.7902e+00 -4.9791e+01  6e+01  2e-01  1e-14\n",
      " 2: -5.4665e+00 -1.0706e+01  6e+00  1e-02  9e-15\n",
      " 3: -7.1271e+00 -8.4670e+00  1e+00  3e-03  7e-15\n",
      " 4: -7.5827e+00 -7.8912e+00  3e-01  5e-04  1e-14\n",
      " 5: -7.7167e+00 -7.7491e+00  3e-02  4e-05  1e-14\n",
      " 6: -7.7309e+00 -7.7322e+00  1e-03  2e-06  1e-14\n",
      " 7: -7.7315e+00 -7.7315e+00  1e-05  2e-08  1e-14\n",
      " 8: -7.7315e+00 -7.7315e+00  1e-07  2e-10  1e-14\n",
      "Optimal solution found.\n"
     ]
    }
   ],
   "source": [
    "model = SVM()\n",
    "model.Train(X, y, 1)"
   ]
  },
  {
   "cell_type": "code",
   "execution_count": 6,
   "metadata": {},
   "outputs": [],
   "source": [
    "def SupportLine(X, w, b, c):\n",
    "    return -(w[0]*X + b + c)/w[1]"
   ]
  },
  {
   "cell_type": "code",
   "execution_count": 7,
   "metadata": {},
   "outputs": [],
   "source": [
    "xs = np.arange(0,4,0.01)\n",
    "\n",
    "hyperplane = SupportLine(xs, model.w, model.b, 0)\n",
    "bot_support = SupportLine(xs, model.w, model.b, 1)\n",
    "top_support = SupportLine(xs, model.w, model.b, -1)"
   ]
  },
  {
   "cell_type": "code",
   "execution_count": 8,
   "metadata": {},
   "outputs": [
    {
     "data": {
      "image/png": "[encoded data removed]",
      "text/plain": [
       "<Figure size 432x288 with 1 Axes>"
      ]
     },
     "metadata": {
      "needs_background": "light"
     },
     "output_type": "display_data"
    }
   ],
   "source": [
    "plt.scatter(X[np.where(y==1)[0],0], X[np.where(y==1)[0],1],\n",
    "            marker='+', c='r')\n",
    "plt.scatter(model.sv[:,0], model.sv[:,1], \n",
    "            marker='o', facecolors='none', edgecolors='k', s=100)\n",
    "plt.scatter(X[np.where(y==0)[0],0],X[np.where(y==0)[0],1],\n",
    "            marker='_', c='b')\n",
    "plt.plot(xs, hyperplane, 'k')\n",
    "plt.plot(xs, bot_support, 'k--')\n",
    "plt.plot(xs, top_support, 'k--')\n",
    "plt.show()"
   ]
  },
  {
   "cell_type": "code",
   "execution_count": null,
   "metadata": {},
   "outputs": [],
   "source": []
  }
 ],
 "metadata": {
  "kernelspec": {
   "display_name": "Python 3",
   "language": "python",
   "name": "python3"
  },
  "language_info": {
   "codemirror_mode": {
    "name": "ipython",
    "version": 3
   },
   "file_extension": ".py",
   "mimetype": "text/x-python",
   "name": "python",
   "nbconvert_exporter": "python",
   "pygments_lexer": "ipython3",
   "version": "3.7.1"
  }
 },
 "nbformat": 4,
 "nbformat_minor": 2
}
