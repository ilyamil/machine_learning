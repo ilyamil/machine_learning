{
 "cells": [
  {
   "cell_type": "code",
   "execution_count": 1,
   "metadata": {},
   "outputs": [],
   "source": [
    "import numpy as np\n",
    "import matplotlib.pyplot as plt\n",
    "from scipy import io\n",
    "from scipy.spatial.distance import cdist"
   ]
  },
  {
   "cell_type": "code",
   "execution_count": 2,
   "metadata": {},
   "outputs": [],
   "source": [
    "class Kmeans():\n",
    "    def __init__(self):\n",
    "        pass\n",
    "    \n",
    "    def RandomInit(self, X, K):\n",
    "        \"\"\"\n",
    "        Pick K nonoverlaping training examples from shuffled \n",
    "        dataset X to be initial coordinates of centroids. \n",
    "        \"\"\"\n",
    "        idx = np.random.choice(np.arange(0,X.shape[0]),\n",
    "                                    K, replace=False)\n",
    "        X_copy = X\n",
    "        Y = X_copy[idx,:]\n",
    "        return Y\n",
    "    \n",
    "    def FindClosestCenters(self, X, Y):\n",
    "        \"\"\"\n",
    "        Return an 1xM array of labels corresponding to \n",
    "        the nearest centroid to each training example.\n",
    "        \n",
    "        Parameters:\n",
    "        -----------\n",
    "        X - MxN matrix of training examples\n",
    "        Y - KxN matrix of centroid coordinates \n",
    "        \"\"\"\n",
    "        L = np.argmin(cdist(X, Y), axis=1)\n",
    "        return L\n",
    "    \n",
    "    def AdjustCenters(self, X, K, L):\n",
    "        \"\"\"\n",
    "        Assign centroids with new coordinates by \n",
    "        averaging across training examples with \n",
    "        same label. Returns KxN matrix of centroid\n",
    "        coordinates.\n",
    "        \n",
    "        Parameters:\n",
    "        -----------\n",
    "        X - MxN matrix of training examples\n",
    "        L - 1xM array of K unique labels assigned \n",
    "            to each example\n",
    "        \"\"\"\n",
    "        Y = np.zeros((K, X.shape[1]))\n",
    "        for i in range(K):\n",
    "            Y[i,:] = np.mean(X[L==i], axis=0) \n",
    "        return Y\n",
    "    \n",
    "    def CompDistortion(self, X, K, L, Y):\n",
    "        \"\"\"\n",
    "        Compute average distance between data points\n",
    "        and cluster centers assigned to them.\n",
    "        \n",
    "        Parameter descriptions are the same as earlier.\n",
    "        \"\"\"\n",
    "        m, n = X.shape\n",
    "        distortions = np.zeros((m, K))\n",
    "        for center in range(K):\n",
    "            distortions = cdist(Y[center,:].reshape(1, n),\n",
    "                                X[L==center,:])\n",
    "        distortion = np.mean(distortions)\n",
    "        return distortion\n",
    "    \n",
    "    def Train(self, X, K, it_max = 20, Y=None):\n",
    "        \"\"\"\n",
    "        Train algorithm by iterative updating of dataset labels\n",
    "        according to their closest cluster centers, then new \n",
    "        cluster centers are recomputed.\n",
    "        \n",
    "        Parameters:\n",
    "        -----------\n",
    "        it_max - maximum number of iterations of algorithm\n",
    "        Y - (optional) user-defined initial coordinates of \n",
    "            cluster centers\n",
    "        K - usert-defined number of clusters\n",
    "        \"\"\"\n",
    "        centers = self.RandomInit(X, K) if Y is None else Y\n",
    "        \n",
    "        # These structures store history of clustering\n",
    "        labels_hist = np.zeros((it_max, X.shape[0]))\n",
    "        centers_hist = dict(zip(np.arange(K), centers))\n",
    "        distort_hist = np.zeros(it_max)\n",
    "        \n",
    "        for i in range(it_max):\n",
    "            labels = self.FindClosestCenters(X, centers)\n",
    "            centers = self.AdjustCenters(X, K, labels)\n",
    "            \n",
    "            labels_hist[i,:] = labels\n",
    "            distort_hist[i] = self.CompDistortion(X, K, \n",
    "                                            labels, centers)\n",
    "            for key,val in centers_hist.items():\n",
    "                if i >= 1:\n",
    "                    centers_hist[key] = np.vstack((val, \n",
    "                                                   centers[key,:]))\n",
    "                else:\n",
    "                    centers_hist[key] = np.stack((val, \n",
    "                                                  centers[key,:]))\n",
    "                \n",
    "        history = [labels_hist, centers_hist, distort_hist]\n",
    "        return history"
   ]
  },
  {
   "cell_type": "code",
   "execution_count": 3,
   "metadata": {},
   "outputs": [],
   "source": [
    "def VisualizeClusters(X, history, K, it_max):\n",
    "    distortion = history[2]\n",
    "    centers = history[1]\n",
    "    labels = history[0][-1]\n",
    "    \n",
    "    plt.plot(np.arange(it_max), distortion)\n",
    "    plt.xlim((0, it_max))\n",
    "    plt.xlabel(\"No. of iterations\")\n",
    "    plt.ylabel(\"Distortion\")\n",
    "    plt.title(\"Distortion for K = {}\".format(K))\n",
    "    plt.show()\n",
    "    \n",
    "    colors = [\"red\",\"blue\",\"green\"]\n",
    "    for i in range(K):\n",
    "        color = np.random.rand(3,)\n",
    "        plt.scatter(X[labels==i,:][:,0], \n",
    "                    X[labels==i,:][:,1], c=colors[i])\n",
    "        plt.plot(centers[i][:,0], centers[i][:,1], 'kx--')\n",
    "    plt.xlabel(\"$x_1$\")\n",
    "    plt.ylabel(\"$x_2$\")\n",
    "    plt.title(\"K-means algorithm results with K = {}\".format(K)+\n",
    "              \"clusters \\n after {} iterations\".format(it_max))\n",
    "    plt.show()"
   ]
  },
  {
   "cell_type": "code",
   "execution_count": 4,
   "metadata": {},
   "outputs": [],
   "source": [
    "data = io.loadmat('data/data2.mat')\n",
    "X = data['X']"
   ]
  },
  {
   "cell_type": "code",
   "execution_count": 5,
   "metadata": {},
   "outputs": [],
   "source": [
    "K = 3\n",
    "it_max = 10\n",
    "model = Kmeans()\n",
    "history = model.Train(X, K, it_max)"
   ]
  },
  {
   "cell_type": "code",
   "execution_count": 6,
   "metadata": {},
   "outputs": [
    {
     "data": {
      "image/png": "[encoded data removed]",
      "text/plain": [
       "<Figure size 432x288 with 1 Axes>"
      ]
     },
     "metadata": {
      "needs_background": "light"
     },
     "output_type": "display_data"
    },
    {
     "data": {
      "image/png": "[encoded data removed]",
      "text/plain": [
       "<Figure size 432x288 with 1 Axes>"
      ]
     },
     "metadata": {
      "needs_background": "light"
     },
     "output_type": "display_data"
    }
   ],
   "source": [
    "VisualizeClusters(X, history, K, it_max)"
   ]
  },
  {
   "cell_type": "code",
   "execution_count": null,
   "metadata": {},
   "outputs": [],
   "source": []
  }
 ],
 "metadata": {
  "kernelspec": {
   "display_name": "Python 3",
   "language": "python",
   "name": "python3"
  },
  "language_info": {
   "codemirror_mode": {
    "name": "ipython",
    "version": 3
   },
   "file_extension": ".py",
   "mimetype": "text/x-python",
   "name": "python",
   "nbconvert_exporter": "python",
   "pygments_lexer": "ipython3",
   "version": "3.7.1"
  }
 },
 "nbformat": 4,
 "nbformat_minor": 2
}
